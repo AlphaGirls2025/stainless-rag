{
 "cells": [
  {
   "cell_type": "markdown",
   "metadata": {},
   "source": [
    "## List avaliable amazon bedrock models"
   ]
  },
  {
   "cell_type": "code",
   "execution_count": null,
   "metadata": {},
   "outputs": [],
   "source": [
    "\n",
    "\"\"\"\n",
    "Lists the available Amazon Bedrock models.\n",
    "\"\"\"\n",
    "import logging\n",
    "import json\n",
    "import boto3\n",
    "\n",
    "\n",
    "from botocore.exceptions import ClientError\n",
    "\n",
    "\n",
    "logging.basicConfig(level=logging.INFO)\n",
    "logger = logging.getLogger(__name__)\n",
    "\n",
    "\n",
    "def list_foundation_models(bedrock_client):\n",
    "    \"\"\"\n",
    "    Gets a list of available Amazon Bedrock foundation models.\n",
    "\n",
    "    :return: The list of available bedrock foundation models.\n",
    "    \"\"\"\n",
    "\n",
    "    try:\n",
    "        response = bedrock_client.list_foundation_models()\n",
    "        models = response[\"modelSummaries\"]\n",
    "        logger.info(\"Got %s foundation models.\", len(models))\n",
    "        return models\n",
    "\n",
    "    except ClientError:\n",
    "        logger.error(\"Couldn't list foundation models.\")\n",
    "        raise\n",
    "\n",
    "\n",
    "def main():\n",
    "    \"\"\"Entry point for the example. Uses the AWS SDK for Python (Boto3)\n",
    "    to create an Amazon Bedrock client. Then lists the available Bedrock models\n",
    "    in the region set in the callers profile and credentials.\n",
    "    \"\"\"\n",
    "\n",
    "    bedrock_client = boto3.client(service_name=\"bedrock\")\n",
    "\n",
    "    fm_models = list_foundation_models(bedrock_client)\n",
    "    for model in fm_models:\n",
    "        print(f\"Model: {model['modelName']}\")\n",
    "        print(json.dumps(model, indent=2))\n",
    "        print(\"---------------------------\\n\")\n",
    "\n",
    "    logger.info(\"Done.\")\n",
    "\n",
    "\n",
    "if __name__ == \"__main__\":\n",
    "    main()"
   ]
  },
  {
   "cell_type": "markdown",
   "metadata": {},
   "source": [
    "## AWS sample code"
   ]
  },
  {
   "cell_type": "markdown",
   "metadata": {},
   "source": [
    "## langchain_aws"
   ]
  },
  {
   "cell_type": "code",
   "execution_count": 12,
   "metadata": {},
   "outputs": [
    {
     "name": "stdout",
     "output_type": "stream",
     "text": [
      "The purpose of a 'hello world' program is to provide a simple introduction to the syntax and basic structure of a programming language.\n"
     ]
    }
   ],
   "source": [
    "# Use the Conversation API to send a text message to Amazon Nova.\n",
    "\n",
    "import boto3\n",
    "from botocore.exceptions import ClientError\n",
    "\n",
    "# Create a Bedrock Runtime client in the AWS Region you want to use.\n",
    "client = boto3.client(\"bedrock-runtime\", region_name=\"us-east-1\")\n",
    "\n",
    "# Set the model ID, e.g., Amazon Nova Lite.\n",
    "model_id = \"amazon.nova-lite-v1:0\"\n",
    "\n",
    "# Start a conversation with the user message.\n",
    "user_message = \"Describe the purpose of a 'hello world' program in one line.\"\n",
    "conversation = [\n",
    "    {\n",
    "        \"role\": \"user\",\n",
    "        \"content\": [{\"text\": user_message}],\n",
    "    }\n",
    "]\n",
    "\n",
    "try:\n",
    "    # Send the message to the model, using a basic inference configuration.\n",
    "    response = client.converse(\n",
    "        modelId=model_id,\n",
    "        messages=conversation,\n",
    "        inferenceConfig={\"maxTokens\": 512, \"temperature\": 0.5, \"topP\": 0.9},\n",
    "    )\n",
    "\n",
    "    # Extract and print the response text.\n",
    "    response_text = response[\"output\"][\"message\"][\"content\"][0][\"text\"]\n",
    "    print(response_text)\n",
    "\n",
    "except (ClientError, Exception) as e:\n",
    "    print(f\"ERROR: Can't invoke '{model_id}'. Reason: {e}\")\n",
    "    exit(1)\n",
    "\n",
    "\n"
   ]
  },
  {
   "cell_type": "markdown",
   "metadata": {},
   "source": [
    "## S3"
   ]
  },
  {
   "cell_type": "markdown",
   "metadata": {},
   "source": [
    "### S3 - upload file & folder"
   ]
  },
  {
   "cell_type": "code",
   "execution_count": null,
   "metadata": {},
   "outputs": [],
   "source": [
    "import boto3\n",
    "\n",
    "s3_client = boto3.client('s3', \n",
    "                  region_name='us-east-1')\n",
    "\n",
    "def upload_file_to_s3(bucket_name, file_path, object_name):\n",
    "    try:\n",
    "        s3_client.upload_file(file_path, bucket_name, object_name)\n",
    "        print(f\"File '{file_path}' uploaded to bucket '{bucket_name}' as '{object_name}'.\")\n",
    "    except Exception as e:\n",
    "        print(f\"Error uploading file: {e}\")\n",
    "\n",
    "# upload folder to s3\n",
    "def upload_folder_to_s3(bucket_name, folder_path):\n",
    "    import os\n",
    "    for root, dirs, files in os.walk(folder_path):\n",
    "        for file in files:\n",
    "            file_path = os.path.join(root, file)\n",
    "            object_name = os.path.relpath(file_path, folder_path)\n",
    "            upload_file_to_s3(bucket_name, file_path, object_name)\n",
    "\n",
    "upload_folder_to_s3('aiwave-hackathon-team', '../data')"
   ]
  },
  {
   "cell_type": "markdown",
   "metadata": {},
   "source": [
    "### S3 - get information"
   ]
  },
  {
   "cell_type": "code",
   "execution_count": null,
   "metadata": {},
   "outputs": [],
   "source": [
    "import boto3\n",
    "\n",
    "s3_client = boto3.client('s3', \n",
    "                  region_name='us-east-1')\n",
    "\n",
    "def list_buckets():\n",
    "    response = s3_client.list_buckets()\n",
    "    buckets = response['Buckets']\n",
    "    [print(f\"Bucket Name: {bucket['Name']}\") for bucket in buckets]\n",
    "    return buckets\n",
    "\n",
    "def get_objects(bucket_name, prefix=\"\"):\n",
    "    response = s3_client.list_objects_v2(\n",
    "        Bucket=bucket_name,\n",
    "        Prefix=prefix  # 可選：只列出特定開頭的\n",
    "    )\n",
    "    print(f\"Objects in bucket '{bucket_name}':\")\n",
    "    if 'Contents' in response:\n",
    "        for obj in response['Contents']:\n",
    "            print(obj['Key'])\n",
    "        return response['Contents']\n",
    "    else:\n",
    "        print(\"No objects found.\")\n",
    "        return []\n",
    "        \n",
    "# get s3 bucket-name arn\n",
    "def get_s3_bucket_arn(bucket_name):\n",
    "    return f\"arn:aws:s3:::{bucket_name}\"\n",
    "# get s3 object arn\n",
    "def get_s3_object_arn(bucket_name, object_name):\n",
    "    return f\"arn:aws:s3:::{bucket_name}/{object_name}\"\n",
    "# get s3 object url\n",
    "def get_s3_object_url(bucket_name, object_name):\n",
    "    return f\"https://{bucket_name}.s3.amazonaws.com/{object_name}\"\n",
    "\n",
    "def get_s3_bucket_info(bucket_name):\n",
    "    bucket_arn = get_s3_bucket_arn(bucket_name)\n",
    "    objects = get_objects(bucket_name)\n",
    "    object_arns = [get_s3_object_arn(bucket_name, obj['Key']) for obj in objects]\n",
    "    object_urls = [get_s3_object_url(bucket_name, obj['Key']) for obj in objects]\n",
    "    return {\n",
    "        'bucket_name': bucket_name,\n",
    "        'bucket_arn': bucket_arn,\n",
    "        'objects': objects,\n",
    "        'object_arns': object_arns,\n",
    "        'object_urls': object_urls\n",
    "    }\n",
    "\n",
    "\n",
    "# get all buckets info\n",
    "s3_bucket_info = get_s3_bucket_info(\"aiwave-hackathon-team\")\n",
    "print(f\"Bucket Name: {s3_bucket_info['bucket_name']}\")\n",
    "print(f\"Bucket ARN: {s3_bucket_info['bucket_arn']}\")\n",
    "print(f\"Objects: {s3_bucket_info['objects']}\")\n",
    "print(f\"Object ARNs: {s3_bucket_info['object_arns']}\")\n",
    "print(f\"Object URLs: {s3_bucket_info['object_urls']}\")\n",
    "print(\"---------------------------\\n\")"
   ]
  },
  {
   "cell_type": "markdown",
   "metadata": {},
   "source": [
    "## OpenSearch"
   ]
  },
  {
   "cell_type": "code",
   "execution_count": null,
   "metadata": {},
   "outputs": [],
   "source": [
    "import boto3\n",
    "REGION = 'us-east-1'  # 你的 AWS region\n",
    "COLLECTION_NAME = 'rag-database'\n",
    "aoss = boto3.client('opensearchserverless', region_name=REGION)"
   ]
  },
  {
   "cell_type": "code",
   "execution_count": null,
   "metadata": {},
   "outputs": [],
   "source": [
    "# Step 1: List collections to find the ID\n",
    "list_response = aoss.list_collections()\n",
    "collection_id = None\n",
    "collection_arn = None\n",
    "for col in list_response['collectionSummaries']:\n",
    "    if col['name'] == COLLECTION_NAME:\n",
    "        collection_id = col['id']\n",
    "        collection_arn = col['arn']\n",
    "        break\n",
    "\n",
    "print(f\"Found Collection ID: {collection_id}\")\n",
    "print(f\"Found Collection ARN: {collection_arn}\")"
   ]
  },
  {
   "cell_type": "markdown",
   "metadata": {},
   "source": [
    "## Bedrock Knowledge base"
   ]
  },
  {
   "cell_type": "code",
   "execution_count": null,
   "metadata": {},
   "outputs": [],
   "source": [
    "KB_NAME = 'stainlness'\n",
    "S3_BUCKET_NAME = 'aiwave-hackathon-team-8'\n",
    "S3_BUCKET_ARN = f'arn:aws:s3:::{S3_BUCKET_NAME}'\n",
    "S3_PREFIX = 'data/'  # S3 中的資料夾路徑\n",
    "BEDROCK_USER_ARN = 'arn:aws:iam::904375567622:user/stainlness-rag'\n",
    "BEDROCK_ROLE_ARN = 'arn:aws:iam::904375567622:role/bedrock_role'\n",
    "EMBEDDING_MODEL_ARN = f'arn:aws:bedrock:{REGION}::foundation-model/amazon.titan-embed-g1-text-02'\n",
    "OPENSEARCH_COLLECTION_ARN = collection_arn\n",
    "OPENSEARCH_COLLECTION_ID = collection_id\n",
    "OPENSEARCH_VECTOR_INDEX_NAME = 'text_vectors'\n",
    "S3_BUCKET_ARN = s3_bucket_info['bucket_arn']\n",
    "S3_BUCKET_PREFIX = ''  # 如果是整個 bucket 就留空 \"\""
   ]
  },
  {
   "cell_type": "code",
   "execution_count": null,
   "metadata": {},
   "outputs": [],
   "source": [
    "# 建立 Knowledge Base\n",
    "bedrock_agent = boto3.client('bedrock-agent', region_name=REGION)\n",
    "create_kb_response = bedrock_agent.create_knowledge_base(\n",
    "    name=KB_NAME,\n",
    "    description=\"Knowledge Base created with S3 as data source and OpenSearch as vector store.\",\n",
    "    roleArn=BEDROCK_ROLE_ARN,\n",
    "    knowledgeBaseConfiguration={\n",
    "        \"type\": \"VECTOR\",\n",
    "        \"vectorKnowledgeBaseConfiguration\": {\n",
    "            \"embeddingModelArn\": EMBEDDING_MODEL_ARN\n",
    "        }\n",
    "    },\n",
    "    storageConfiguration={\n",
    "        \"type\": \"OPENSEARCH_SERVERLESS\",\n",
    "        \"opensearchServerlessConfiguration\": {\n",
    "            \"collectionArn\": OPENSEARCH_COLLECTION_ARN,\n",
    "            \"vectorIndexName\": OPENSEARCH_VECTOR_INDEX_NAME,\n",
    "            \"fieldMapping\": {\n",
    "                \"vectorField\": \"vectors\",\n",
    "                \"textField\": \"text\",\n",
    "                \"metadataField\": \"metadata\"\n",
    "            }\n",
    "        }\n",
    "    }\n",
    ")\n",
    "\n",
    "knowledge_base_id = create_kb_response['knowledgeBase']['knowledgeBaseId']\n",
    "print(f\"Knowledge Base Created Successfully! ID: {knowledge_base_id}\")"
   ]
  },
  {
   "cell_type": "code",
   "execution_count": null,
   "metadata": {},
   "outputs": [],
   "source": [
    "response = bedrock_agent.list_knowledge_bases()\n",
    "response"
   ]
  }
 ],
 "metadata": {
  "kernelspec": {
   "display_name": "stainless-rag-Ca2InKYu",
   "language": "python",
   "name": "python3"
  },
  "language_info": {
   "codemirror_mode": {
    "name": "ipython",
    "version": 3
   },
   "file_extension": ".py",
   "mimetype": "text/x-python",
   "name": "python",
   "nbconvert_exporter": "python",
   "pygments_lexer": "ipython3",
   "version": "3.9.6"
  }
 },
 "nbformat": 4,
 "nbformat_minor": 2
}
